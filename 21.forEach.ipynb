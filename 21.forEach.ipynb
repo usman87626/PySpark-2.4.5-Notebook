{
 "cells": [
  {
   "cell_type": "markdown",
   "metadata": {},
   "source": [
    "# foreach():\n",
    "\n",
    "                        Syntax:    RDD.foreach(<function>)\n",
    "\n",
    "The foreach() action applies a function specified in the function argument, anonymous\n",
    "or named, to all elements of an RDD. Because foreach() is an action rather than a transformation, you can perform functions otherwise not possible or intended in transformations, such as\n",
    "\n",
    "a print() function. Although Python lambda functions don’t allow you to execute a print()\n",
    "statement directly, you can use a named function that executes print() instead. Listing 4.25\n",
    "shows an example of this."
   ]
  },
  {
   "cell_type": "code",
   "execution_count": 1,
   "metadata": {},
   "outputs": [],
   "source": [
    "from pyspark.context import SparkContext\n",
    "from pyspark.sql import SparkSession\n",
    "sc = SparkContext('local')\n",
    "spark = SparkSession(sc)"
   ]
  },
  {
   "cell_type": "code",
   "execution_count": 4,
   "metadata": {},
   "outputs": [],
   "source": [
    "def printfunc(x):\n",
    "    print(x)\n",
    "    \n",
    "licenses = sc.textFile('file:///opt/Spark/licenses')\n",
    "longwords = licenses.flatMap(lambda x: x.split(' ')).filter(lambda x: len(x) > 12)\n",
    "longwords.foreach(lambda x: printfunc(x))\n"
   ]
  }
 ],
 "metadata": {
  "kernelspec": {
   "display_name": "Python 3",
   "language": "python",
   "name": "python3"
  },
  "language_info": {
   "codemirror_mode": {
    "name": "ipython",
    "version": 3
   },
   "file_extension": ".py",
   "mimetype": "text/x-python",
   "name": "python",
   "nbconvert_exporter": "python",
   "pygments_lexer": "ipython3",
   "version": "3.7.6"
  }
 },
 "nbformat": 4,
 "nbformat_minor": 4
}
