{
 "cells": [
  {
   "cell_type": "markdown",
   "metadata": {},
   "source": [
    "# Transformations on PairRDDs:\n",
    "Key/value pair RDDs, or simply PairRDDs, contain records consisting of keys and values. The\n",
    "keys can be simple objects such as integer or string objects or complex objects such as tuples.\n",
    "The values can range from scalar values to data structures such as lists, tuples, dictionaries, or\n",
    "sets. This is a common data representation in multi-structured data analysis on schema-on-read\n",
    "and NoSQL systems. PairRDDs and their constituent functions are integral to functional Spark\n",
    "programming. These functions are broadly classified into four categories:\n",
    "\n",
    "<ul>\n",
    "    <li>\n",
    "        Dictionary functions\n",
    "    </li>\n",
    "        <li>\n",
    "        Functional transformations\n",
    "    </li>\n",
    "        <li>\n",
    "        Grouping, aggregation, and sorting operations\n",
    "    </li>\n",
    "        <li>\n",
    "        Join functions, which we discuss specifically in the next section\n",
    "    </li>\n",
    "</ul>"
   ]
  },
  {
   "cell_type": "markdown",
   "metadata": {},
   "source": [
    "Dictionary functions return a set of keys or values from a key/value pair RDD. Examples include\n",
    "keys() and values().\n",
    "\n",
    "Earlier in this chapter we looked at other aggregate operations, including reduce() and fold() .\n",
    "These are conceptually similar in that they aggregate values in an RDD based on a key, but there\n",
    "is a fundamental difference: reduce() and fold() are actions, which means they force computa-\n",
    "tion and produce a result, whereas reduceByKey() and foldByKey() , which we discuss shortly,\n",
    "are transformations, meaning they are lazily evaluated and return a new RDD.\n"
   ]
  },
  {
   "cell_type": "markdown",
   "metadata": {},
   "source": [
    "The list of methods we are going to discuss are:\n",
    "\n",
    "\n",
    "<ul>\n",
    "    <li>\n",
    "        keys()\n",
    "Syntax:\n",
    "RDD.keys()\n",
    "    </li>\n",
    "        <li>\n",
    "        values()\n",
    "Syntax:\n",
    "RDD.values()\n",
    "    </li>\n",
    "        <li>\n",
    "      keyBy()\n",
    "Syntax:\n",
    "RDD.keyBy(<function>)\n",
    "    </li>\n",
    "        <li>\n",
    "        mapValues()\n",
    "Syntax:\n",
    "RDD.mapValues(<function>)\n",
    "    </li>\n",
    "            <li>\n",
    "        flatMapValues()\n",
    "Syntax:\n",
    "RDD.flatMapValues(<function>)\n",
    "    </li>\n",
    "            <li>\n",
    "        groupByKey()\n",
    "Syntax:\n",
    "RDD.groupByKey(numPartitions=None, partitionFunc=<hash_fn>)\n",
    "    </li>\n",
    "    <li>\n",
    "        reduceByKey()\n",
    "Syntax:\n",
    "RDD.reduceByKey(<function>, numPartitions=None, partitionFunc=<hash_fn>)\n",
    "    </li>\n",
    "    <li>\n",
    "        foldByKey()\n",
    "Syntax:\n",
    "RDD.foldByKey(zeroValue, <function>, numPartitions=None,\n",
    "partitionFunc=<hash_fn>)\n",
    "    </li>\n",
    "    <li>\n",
    "       sortByKey() Syntax: RDD.sortByKey(ascending=True, numPartitions=None, keyfunc=function) \n",
    "    </li>\n",
    "    \n",
    "</ul>"
   ]
  }
 ],
 "metadata": {
  "kernelspec": {
   "display_name": "Python 3",
   "language": "python",
   "name": "python3"
  },
  "language_info": {
   "codemirror_mode": {
    "name": "ipython",
    "version": 3
   },
   "file_extension": ".py",
   "mimetype": "text/x-python",
   "name": "python",
   "nbconvert_exporter": "python",
   "pygments_lexer": "ipython3",
   "version": "3.7.6"
  }
 },
 "nbformat": 4,
 "nbformat_minor": 4
}
