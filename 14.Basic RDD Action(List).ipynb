{
 "cells": [
  {
   "cell_type": "markdown",
   "metadata": {},
   "source": [
    "# Basic RDD Actions\n",
    "Recall that actions in Spark either return values, \n",
    "\n",
    "as is the case with count() ; return data, \n",
    "\n",
    "as is the case with collect() ; \n",
    "\n",
    "or save data externally, as is the case with saveAsTextFile() . \n",
    "\n",
    "In all cases,actions force computation of an RDD and all of its parents. Some actions return either a count, an\n",
    "aggregation of the data, or part or all of the data in an RDD. In contrast, foreach() is an action\n",
    "that performs a function on each element of an RDD. The following sections look at some of the\n",
    "basic actions in the core Spark API.\n",
    "\n",
    "<ul>\n",
    "    <li>\n",
    "        RDD.count()\n",
    "    </li>\n",
    "    <li>\n",
    "        RDD.collect()\n",
    "    </li>\n",
    "    <li>\n",
    "        RDD.take(n)\n",
    "    </li>\n",
    "    <li>\n",
    "        RDD.top(n, key=None)\n",
    "    </li>\n",
    "    <li>\n",
    "        RDD.first()\n",
    "    </li>\n",
    "    <li>\n",
    "        RDD.reduce(function)\n",
    "    </li>\n",
    "    <li>\n",
    "        RDD.fold(zeroValue, function)\n",
    "    </li>\n",
    "    <li>\n",
    "        RDD.foreach(function)\n",
    "    </li>\n",
    "</ul>"
   ]
  }
 ],
 "metadata": {
  "kernelspec": {
   "display_name": "Python 3",
   "language": "python",
   "name": "python3"
  },
  "language_info": {
   "codemirror_mode": {
    "name": "ipython",
    "version": 3
   },
   "file_extension": ".py",
   "mimetype": "text/x-python",
   "name": "python",
   "nbconvert_exporter": "python",
   "pygments_lexer": "ipython3",
   "version": "3.7.6"
  }
 },
 "nbformat": 4,
 "nbformat_minor": 4
}
