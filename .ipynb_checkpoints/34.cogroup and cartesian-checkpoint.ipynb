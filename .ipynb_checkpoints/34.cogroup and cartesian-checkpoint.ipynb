{
 "cells": [
  {
   "cell_type": "markdown",
   "metadata": {},
   "source": [
    "# cogroup():\n",
    "                        Syntax: RDD.cogroup(<otherRDD>, numPartitions=None)\n",
    "The cogroup() transformation groups multiple key/value pair datasets by a key. It is somewhat\n",
    "similar conceptually to a fullOuterJoin(), but there are a few key differences in its\n",
    "implementation:\n",
    "<ul>\n",
    "    <li>\n",
    " The cogroup() transformation returns an iterable object, similar to the object returned\n",
    "from the groupByKey() function you saw earlier.\n",
    "    </li>\n",
    "    <li>\n",
    " The cogroup() transformation groups multiple elements from both RDDs into iterable\n",
    "objects, whereas fullOuterJoin() creates separate output elements for the same key.\n",
    "    </li>\n",
    "    <li>\n",
    " The cogroup() transformation can group three or more RDDs using the Scala API or the\n",
    "groupWith() function alias.\n",
    "    </li>\n",
    "</ul>\n",
    "\n",
    "The resultant RDD output from a cogroup() operation of two RDDs (A, B) with a key K could be\n",
    "summarized as:\n",
    "\n",
    "                        [K, Iterable(K,VA, …), Iterable(K,VB, …)]\n",
    "                        \n",
    "If an RDD does not have elements for a given key that is present in the other RDD, the corresponding\n",
    "iterable is empty.Lets see it using the example in previous Notebook:"
   ]
  },
  {
   "cell_type": "code",
   "execution_count": 1,
   "metadata": {},
   "outputs": [
    {
     "data": {
      "text/plain": [
       "[('spark.master', 'local'),\n",
       " ('spark.driver.port', '59186'),\n",
       " ('spark.app.name', 'cogroup-cartesian'),\n",
       " ('spark.rdd.compress', 'True'),\n",
       " ('spark.serializer.objectStreamReset', '100'),\n",
       " ('spark.executor.id', 'driver'),\n",
       " ('spark.submit.deployMode', 'client'),\n",
       " ('spark.app.id', 'local-1590555337997'),\n",
       " ('spark.ui.showConsoleProgress', 'true'),\n",
       " ('spark.driver.host', 'DESKTOP-I7971JS')]"
      ]
     },
     "execution_count": 1,
     "metadata": {},
     "output_type": "execute_result"
    }
   ],
   "source": [
    "from pyspark.sql import SparkSession\n",
    "from pyspark import SparkContext,SparkConf\n",
    "\n",
    "configure = SparkConf().setAppName(\"Cogroup-Cartesian\").setMaster(\"local\")\n",
    "sc = SparkContext(conf = configure)\n",
    "\n",
    "spark = SparkSession.builder \\\n",
    "        .appName(\"cogroup-cartesian\") \\\n",
    "        .getOrCreate()\n",
    "    \n",
    "spark.sparkContext.getConf().getAll()"
   ]
  },
  {
   "cell_type": "code",
   "execution_count": 2,
   "metadata": {},
   "outputs": [],
   "source": [
    "stores = sc.parallelize(\n",
    "                        [\n",
    "                        (100, 'Boca Raton'),\n",
    "                        (101, 'Columbia'),\n",
    "                        (102, 'Cambridge'),\n",
    "                        (103, 'Naperville')\n",
    "                        ]\n",
    ")\n",
    "# stores schema (store_id, store_location)\n",
    "salespeople = sc.parallelize(\n",
    "                              [\n",
    "                                (1, 'Henry', 100),\n",
    "                                (2, 'Karen', 100),\n",
    "                                (3, 'Paul', 101),\n",
    "                                (4, 'Jimmy', 102),\n",
    "                                (5, 'Janice', None)\n",
    "                              ]\n",
    ")\n",
    "# salespeople schema (salesperson_id, salesperson_name, store_id)"
   ]
  },
  {
   "cell_type": "code",
   "execution_count": 3,
   "metadata": {},
   "outputs": [
    {
     "data": {
      "text/plain": [
       "[(100,\n",
       "  (<pyspark.resultiterable.ResultIterable at 0x220caa26588>,\n",
       "   <pyspark.resultiterable.ResultIterable at 0x220caa26a88>)),\n",
       " (102,\n",
       "  (<pyspark.resultiterable.ResultIterable at 0x220caa24988>,\n",
       "   <pyspark.resultiterable.ResultIterable at 0x220caa26b88>))]"
      ]
     },
     "execution_count": 3,
     "metadata": {},
     "output_type": "execute_result"
    }
   ],
   "source": [
    "salespeople.keyBy(lambda x: x[2]) \\\n",
    "          .cogroup(stores).take(2)"
   ]
  },
  {
   "cell_type": "code",
   "execution_count": 4,
   "metadata": {},
   "outputs": [
    {
     "data": {
      "text/plain": [
       "[(100, [(1, 'Henry', 100), (2, 'Karen', 100), 'Boca Raton']),\n",
       " (102, [(4, 'Jimmy', 102), 'Cambridge']),\n",
       " (None, [(5, 'Janice', None)]),\n",
       " (101, [(3, 'Paul', 101), 'Columbia']),\n",
       " (103, ['Naperville'])]"
      ]
     },
     "execution_count": 4,
     "metadata": {},
     "output_type": "execute_result"
    }
   ],
   "source": [
    "salespeople.keyBy(lambda x: x[2]) \\\n",
    "            .cogroup(stores) \\\n",
    "            .mapValues(lambda x: [item for sublist in x for item in sublist]) \\\n",
    "            .collect()"
   ]
  },
  {
   "cell_type": "markdown",
   "metadata": {},
   "source": [
    "# cartesian():\n",
    "                    Syntax:  RDD.cartesian(<otherRDD>)\n",
    "The cartesian() transformation, sometimes referred to by its colloquial name, cross join, generates\n",
    "every possible combination of records from both RDDs. The number of records produced by\n",
    "this transformation is equal to the number of records in the first RDD multiplied by the number\n",
    "of records in the second RDD.\n",
    "\n",
    "Lets see it with an example:"
   ]
  },
  {
   "cell_type": "code",
   "execution_count": 5,
   "metadata": {},
   "outputs": [
    {
     "data": {
      "text/plain": [
       "[((100, (1, 'Henry', 100)), (100, 'Boca Raton'))]"
      ]
     },
     "execution_count": 5,
     "metadata": {},
     "output_type": "execute_result"
    }
   ],
   "source": [
    "salespeople.keyBy(lambda x: x[2]) \\\n",
    "          .cartesian(stores).take(1)\n",
    "# returns:\n",
    "# [((100, (1, 'Henry', 100)), (100, 'Boca Raton'))]\n"
   ]
  },
  {
   "cell_type": "code",
   "execution_count": 6,
   "metadata": {},
   "outputs": [
    {
     "data": {
      "text/plain": [
       "20"
      ]
     },
     "execution_count": 6,
     "metadata": {},
     "output_type": "execute_result"
    }
   ],
   "source": [
    "salespeople.keyBy(lambda x: x[2]) \\\n",
    "            .cartesian(stores).count()\n",
    "# returns 20 as there are 5 x 4 = 20 records"
   ]
  },
  {
   "cell_type": "markdown",
   "metadata": {},
   "source": [
    "# Use the cartesian() Transformation Cautiously\n",
    "Cartesian, or cross-product, operations can yield excessively large amounts of data. Although\n",
    "this is a useful function for testing multiple combinations of items for machine learning, you\n",
    "could create a Big Data problem where one otherwise did not exist!"
   ]
  }
 ],
 "metadata": {
  "kernelspec": {
   "display_name": "Python 3",
   "language": "python",
   "name": "python3"
  },
  "language_info": {
   "codemirror_mode": {
    "name": "ipython",
    "version": 3
   },
   "file_extension": ".py",
   "mimetype": "text/x-python",
   "name": "python",
   "nbconvert_exporter": "python",
   "pygments_lexer": "ipython3",
   "version": "3.7.6"
  }
 },
 "nbformat": 4,
 "nbformat_minor": 4
}
