{
 "cells": [
  {
   "cell_type": "markdown",
   "metadata": {},
   "source": [
    "# take():\n",
    "        Syntax:  RDD.take(n)\n",
    "The take() action returns the first n elements of an RDD. The elements taken are not in any\n",
    "particular order; in fact, the elements returned from a take() action are non-deterministic,\n",
    "meaning they can differ if the same action is run again, particularly in a fully distributed environ-\n",
    "ment. There is a similar Spark function, takeOrdered() , which takes the first n elements ordered\n",
    "based on a key supplied by a key function.\n",
    "\n",
    "For RDDs that span more than one partition, take() scans one partition and uses the results\n",
    "from that partition to estimate the number of additional partitions needed to satisfy the number\n",
    "requested."
   ]
  },
  {
   "cell_type": "code",
   "execution_count": 2,
   "metadata": {},
   "outputs": [],
   "source": [
    "from pyspark.context import SparkContext\n",
    "from pyspark.sql import SparkSession\n"
   ]
  },
  {
   "cell_type": "code",
   "execution_count": 3,
   "metadata": {},
   "outputs": [],
   "source": [
    "sc = SparkContext('local')\n",
    "spark = SparkSession(sc)"
   ]
  },
  {
   "cell_type": "code",
   "execution_count": 6,
   "metadata": {},
   "outputs": [
    {
     "data": {
      "text/plain": [
       "['Copyright',\n",
       " '©',\n",
       " '2015',\n",
       " 'The',\n",
       " 'University',\n",
       " 'of',\n",
       " 'Tennessee.',\n",
       " 'All',\n",
       " 'rights',\n",
       " 'reserved.']"
      ]
     },
     "execution_count": 6,
     "metadata": {},
     "output_type": "execute_result"
    }
   ],
   "source": [
    "licenses = sc.textFile(\"file:///opt/Spark/licenses\")\n",
    "licenses = licenses.flatMap(lambda x:x.split(' '))\n",
    "licenses.take(10)"
   ]
  }
 ],
 "metadata": {
  "kernelspec": {
   "display_name": "Python 3",
   "language": "python",
   "name": "python3"
  },
  "language_info": {
   "codemirror_mode": {
    "name": "ipython",
    "version": 3
   },
   "file_extension": ".py",
   "mimetype": "text/x-python",
   "name": "python",
   "nbconvert_exporter": "python",
   "pygments_lexer": "ipython3",
   "version": "3.7.6"
  }
 },
 "nbformat": 4,
 "nbformat_minor": 4
}
