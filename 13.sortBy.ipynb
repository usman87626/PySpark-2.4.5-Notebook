{
 "cells": [
  {
   "cell_type": "markdown",
   "metadata": {},
   "source": [
    "# sortBy():\n",
    "            Syntax:  RDD.sortBy(<keyfunc>, ascending=True, numPartitions=None)\n",
    "\n",
    "The sortBy() transformation sorts an RDD by the <keyfunc> argument (a named or anonymous function) that nominates the key for a given dataset. It sorts according to the sort order\n",
    "of the key object type. For instance, int and double data types are sorted numerically, whereas\n",
    "String types are sorted in lexicographical order.\n",
    "    \n",
    "    \n",
    "The ascending argument is a Boolean argument that defaults to True and specifies the sort order\n",
    "to be used. A descending sort order is specified by setting ascending=False.\n",
    "    \n",
    "An example of the sortBy() function is shown in Listing 4.16."
   ]
  },
  {
   "cell_type": "code",
   "execution_count": 1,
   "metadata": {},
   "outputs": [],
   "source": [
    "from pyspark.context import SparkContext\n",
    "from pyspark.sql.session import SparkSession"
   ]
  },
  {
   "cell_type": "code",
   "execution_count": 2,
   "metadata": {},
   "outputs": [],
   "source": [
    "sc = SparkContext('local')\n",
    "spark = SparkSession(sc)"
   ]
  },
  {
   "cell_type": "code",
   "execution_count": 3,
   "metadata": {},
   "outputs": [],
   "source": [
    "readme = sc.textFile('file:///opt/Spark/README.md')\n",
    "words = readme.flatMap(lambda x: x.split(' ')).filter(lambda x: len(x) > 0)"
   ]
  },
  {
   "cell_type": "code",
   "execution_count": 8,
   "metadata": {},
   "outputs": [
    {
     "data": {
      "text/plain": [
       "['You',\n",
       " 'you',\n",
       " 'you',\n",
       " 'you',\n",
       " 'You',\n",
       " 'YARN,',\n",
       " 'You',\n",
       " 'you',\n",
       " 'your',\n",
       " 'YARN\"](http://spark.apache.org/docs/latest/building-spark.html#specifying-the-hadoop-version-and-enabling-yarn)',\n",
       " 'web',\n",
       " 'way',\n",
       " 'which',\n",
       " 'which',\n",
       " 'with',\n",
       " 'will',\n",
       " 'when',\n",
       " 'with',\n",
       " 'with',\n",
       " 'variable',\n",
       " 'Versions',\n",
       " 'versions',\n",
       " 'version',\n",
       " 'Version',\n",
       " 'using',\n",
       " 'using',\n",
       " 'using',\n",
       " 'use',\n",
       " 'use',\n",
       " 'URL,',\n",
       " 'use',\n",
       " 'usage',\n",
       " 'using:',\n",
       " 'uses',\n",
       " 'that',\n",
       " 'tools',\n",
       " 'the',\n",
       " 'the',\n",
       " 'This',\n",
       " 'To']"
      ]
     },
     "execution_count": 8,
     "metadata": {},
     "output_type": "execute_result"
    }
   ],
   "source": [
    "sortByFirstLetter = words.sortBy(lambda x:x[0].lower() , ascending=False)\n",
    "sortByFirstLetter.take(40)"
   ]
  },
  {
   "cell_type": "code",
   "execution_count": null,
   "metadata": {},
   "outputs": [],
   "source": []
  }
 ],
 "metadata": {
  "kernelspec": {
   "display_name": "Python 3",
   "language": "python",
   "name": "python3"
  },
  "language_info": {
   "codemirror_mode": {
    "name": "ipython",
    "version": 3
   },
   "file_extension": ".py",
   "mimetype": "text/x-python",
   "name": "python",
   "nbconvert_exporter": "python",
   "pygments_lexer": "ipython3",
   "version": "3.7.6"
  }
 },
 "nbformat": 4,
 "nbformat_minor": 4
}
