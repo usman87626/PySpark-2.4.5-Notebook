{
 "cells": [
  {
   "cell_type": "markdown",
   "metadata": {},
   "source": [
    "# keyBy():\n",
    "            Syntax:  RDD.keyBy(function)\n",
    "            \n",
    "The keyBy() transformation creates a tuple consisting of a key and a value from the elements\n",
    "in the RDD by applying a function specified by the <function> argument. The value is the\n",
    "complete tuple from which the key was derived.\n",
    "    \n",
    "Consider a list of locations as tuples with a schema of city , country , location_no . Say that you\n",
    "want the location_no field to be your key. The example in Listing 4.28 demonstrates the use of\n",
    "the keyBy() function to create new tuples in which the first element is the key and the second\n",
    "element, the value, is a tuple containing all fields from the original tuple."
   ]
  },
  {
   "cell_type": "code",
   "execution_count": 2,
   "metadata": {},
   "outputs": [],
   "source": [
    "from pyspark.context import SparkContext\n",
    "from pyspark.sql import SparkSession\n",
    "sc = SparkContext('local')\n",
    "spark = SparkSession(sc)"
   ]
  },
  {
   "cell_type": "code",
   "execution_count": 3,
   "metadata": {},
   "outputs": [
    {
     "data": {
      "text/plain": [
       "[(1, ('Hayward', 'USA', 1)),\n",
       " (2, ('Baumholder', 'Germany', 2)),\n",
       " (3, ('Alexandria', 'USA', 3)),\n",
       " (4, ('Melbourne', 'Australia', 4))]"
      ]
     },
     "execution_count": 3,
     "metadata": {},
     "output_type": "execute_result"
    }
   ],
   "source": [
    "locations = sc.parallelize([\n",
    "    ('Hayward', 'USA', 1)\n",
    "    ,('Baumholder','Germany', 2)\n",
    "    ,('Alexandria','USA', 3)\n",
    "    ,('Melbourne','Australia', 4)\n",
    "])\n",
    "bylocno = locations.keyBy(lambda x: x[2])\n",
    "bylocno.collect()"
   ]
  },
  {
   "cell_type": "markdown",
   "metadata": {},
   "source": [
    "Recall that x[2] in Listing 4.28 refers to the third element in list x , as Python list elements are\n",
    "ordinal numbers, starting with 0 .\n",
    "\n",
    "Functional transformations available for key/value pair RDDs work similarly to the more general\n",
    "functional transformations you learned about earlier. The difference is that these functions\n",
    "operate specifically on either the key or value element within a tuple—the key/value pair, in this\n",
    "case. Functional transformations include mapValues() and flatMapValues() ."
   ]
  }
 ],
 "metadata": {
  "kernelspec": {
   "display_name": "Python 3",
   "language": "python",
   "name": "python3"
  },
  "language_info": {
   "codemirror_mode": {
    "name": "ipython",
    "version": 3
   },
   "file_extension": ".py",
   "mimetype": "text/x-python",
   "name": "python",
   "nbconvert_exporter": "python",
   "pygments_lexer": "ipython3",
   "version": "3.7.6"
  }
 },
 "nbformat": 4,
 "nbformat_minor": 4
}
