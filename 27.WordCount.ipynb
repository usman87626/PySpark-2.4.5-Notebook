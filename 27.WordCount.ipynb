{
 "cells": [
  {
   "cell_type": "code",
   "execution_count": 1,
   "metadata": {},
   "outputs": [],
   "source": [
    "import sys, re\n",
    "from pyspark import SparkConf, SparkContext\n",
    "conf = SparkConf().setAppName('Word Counts')\n",
    "sc = SparkContext(conf=conf)"
   ]
  },
  {
   "cell_type": "code",
   "execution_count": 2,
   "metadata": {},
   "outputs": [],
   "source": [
    "inputpath = \"/opt/Spark/data/shakespeare.txt\"\n",
    "outputdir = \"/opt/Spark/data/output/output.txt\"\n",
    "wordcounts = sc.textFile(\"file:///\"+inputpath). \\\n",
    "             filter(lambda line: len(line) > 0) \\\n",
    "            .flatMap(lambda line: re.split('\\W+', line)) \\\n",
    "            .filter(lambda word: len(word) > 0) \\\n",
    "            .map(lambda word:(word.lower(),1)) \\\n",
    "            .reduceByKey(lambda v1, v2: v1 + v2) \\\n",
    "            .map(lambda x: (x[1],x[0])) \\\n",
    "            .sortByKey(ascending=False) \\\n",
    "            .persist()\n",
    "\n",
    "wordcounts.saveAsTextFile(\"file://\" + outputdir)"
   ]
  },
  {
   "cell_type": "code",
   "execution_count": 3,
   "metadata": {},
   "outputs": [],
   "source": [
    "top5words = wordcounts.take(5)\n",
    "justwords = []\n",
    "\n",
    "for words in top5words:\n",
    "    justwords.append(words[1])"
   ]
  },
  {
   "cell_type": "code",
   "execution_count": 4,
   "metadata": {},
   "outputs": [
    {
     "name": "stdout",
     "output_type": "stream",
     "text": [
      "The top five words are : ['the', 'and', 'i', 'to', 'of']\n",
      "\n",
      "Check the complete output in /opt/Spark/data/output/output.txt\n"
     ]
    }
   ],
   "source": [
    "print(\"The top five words are : \" + str(justwords))\n",
    "print()\n",
    "print(\"Check the complete output in \" + outputdir)"
   ]
  }
 ],
 "metadata": {
  "kernelspec": {
   "display_name": "Python 3",
   "language": "python",
   "name": "python3"
  },
  "language_info": {
   "codemirror_mode": {
    "name": "ipython",
    "version": 3
   },
   "file_extension": ".py",
   "mimetype": "text/x-python",
   "name": "python",
   "nbconvert_exporter": "python",
   "pygments_lexer": "ipython3",
   "version": "3.7.6"
  }
 },
 "nbformat": 4,
 "nbformat_minor": 4
}
