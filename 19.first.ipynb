{
 "cells": [
  {
   "cell_type": "markdown",
   "metadata": {},
   "source": [
    "# first():\n",
    "                    Syntax:   RDD.first()\n",
    "The first() action returns the first element in this RDD. Similar to the take() and collect()\n",
    "actions and unlike the top() action, first() does not consider the order of elements and is a\n",
    "non-deterministic operation, especially in fully distributed environments.\n",
    "\n",
    "As you can see from Listing 4.21, the primary difference between first() and take(1) is that\n",
    "first() returns an atomic data element, and take() (even if n = 1 ) returns a list of data\n",
    "elements. The first() action is useful for inspecting the output of an RDD as part of develop-\n",
    "ment or data exploration."
   ]
  },
  {
   "cell_type": "code",
   "execution_count": 1,
   "metadata": {},
   "outputs": [],
   "source": [
    "from pyspark.context import SparkContext\n",
    "from pyspark.sql import SparkSession"
   ]
  },
  {
   "cell_type": "code",
   "execution_count": 2,
   "metadata": {},
   "outputs": [],
   "source": [
    "sc = SparkContext('local')\n",
    "spark = SparkSession(sc)"
   ]
  },
  {
   "cell_type": "code",
   "execution_count": 5,
   "metadata": {},
   "outputs": [
    {
     "data": {
      "text/plain": [
       "['#']"
      ]
     },
     "execution_count": 5,
     "metadata": {},
     "output_type": "execute_result"
    }
   ],
   "source": [
    "readme = sc.textFile('file:///opt/Spark/README.md')\n",
    "words = readme.flatMap(lambda x: x.split(' ')) \\\n",
    ".filter(lambda x: len(x) > 0)\n",
    "words.distinct().first()\n",
    "# returns a string: u'project.'\n",
    "words.distinct().take(1)\n",
    "# returns a list with one string element: [u'project.']"
   ]
  }
 ],
 "metadata": {
  "kernelspec": {
   "display_name": "Python 3",
   "language": "python",
   "name": "python3"
  },
  "language_info": {
   "codemirror_mode": {
    "name": "ipython",
    "version": 3
   },
   "file_extension": ".py",
   "mimetype": "text/x-python",
   "name": "python",
   "nbconvert_exporter": "python",
   "pygments_lexer": "ipython3",
   "version": "3.7.6"
  }
 },
 "nbformat": 4,
 "nbformat_minor": 4
}
