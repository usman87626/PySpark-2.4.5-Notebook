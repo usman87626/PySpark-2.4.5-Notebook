{
 "cells": [
  {
   "cell_type": "markdown",
   "metadata": {},
   "source": [
    "# Basic RDD Transformations:\n",
    "\n",
    "The most commonly used Spark functions include map() , flatMap() , filter() , and distinct() ,\n",
    "which are covered in the following sections. You will also learn about the groupBy() and sortBy()\n",
    "functions, which are commonly implemented by other functions. Grouping data is a normal\n",
    "precursor to performing aggregation or summary functions such as summing, counting, and so on.\n",
    "Sorting data is another useful operation for preparing output or for looking at the top or bottom\n",
    "records in a dataset. The groupBy() and sortBy() functions should be familiar to you if you have\n",
    "experience in relational database programming because they are analogous to the GROUP BY and\n",
    "ORDER BY functions in SQL.\n",
    "\n",
    "<ul>\n",
    "    <li><code> RDD.map(function, preservesPartitioning=False) </code></li>\n",
    "    <li><code> RDD.flatMap(function, preservesPartitioning=False) </code></li>\n",
    "    <li><code> RDD.filter(function) </code></li>\n",
    "    <li><code> RDD.distinct(numPartitions=None) </code></li>\n",
    "    <li><code> RDD.groupBy(function, numPartitions=None) </code></li>\n",
    "    <li><code> RDD.sortBy(keyfunc, ascending=True, numPartitions=None) </code></li>\n",
    "</ul>\n",
    "\n",
    "The preservesPartitioning argument is an optional Boolean argument intended for use\n",
    "with RDDs with a partitioner defined—typically a key/value pair RDD (as discussed later in this\n",
    "chapter) in which a key is defined and grouped by a key hash or key range. If this parameter is set\n",
    "to True , the partitions stay intact. This parameter can be used by the Spark scheduler to optimize\n",
    "subsequent operations, such as joins based on the partitioned key."
   ]
  },
  {
   "cell_type": "code",
   "execution_count": null,
   "metadata": {},
   "outputs": [],
   "source": []
  }
 ],
 "metadata": {
  "kernelspec": {
   "display_name": "Python 3",
   "language": "python",
   "name": "python3"
  },
  "language_info": {
   "codemirror_mode": {
    "name": "ipython",
    "version": 3
   },
   "file_extension": ".py",
   "mimetype": "text/x-python",
   "name": "python",
   "nbconvert_exporter": "python",
   "pygments_lexer": "ipython3",
   "version": "3.7.6"
  }
 },
 "nbformat": 4,
 "nbformat_minor": 4
}
