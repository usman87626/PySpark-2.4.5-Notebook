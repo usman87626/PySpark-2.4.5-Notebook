{
 "cells": [
  {
   "cell_type": "code",
   "execution_count": 1,
   "metadata": {},
   "outputs": [],
   "source": [
    "from pyspark import SparkContext,SparkConf\n",
    "from pyspark.sql import SparkSession\n",
    "from pyspark.sql.functions import desc , asc , udf , sum as Fsum\n",
    "from pyspark.sql.types import StringType , IntegerType\n",
    "\n",
    "import datetime\n",
    "\n",
    "import numpy as np\n",
    "import pandas as pd\n",
    "%matplotlib inline\n",
    "import matplotlib.pyplot as plt"
   ]
  },
  {
   "cell_type": "code",
   "execution_count": 2,
   "metadata": {},
   "outputs": [
    {
     "data": {
      "text/plain": [
       "[('spark.master', 'local'),\n",
       " ('spark.rdd.compress', 'True'),\n",
       " ('spark.serializer.objectStreamReset', '100'),\n",
       " ('spark.app.id', 'local-1590192339275'),\n",
       " ('spark.executor.id', 'driver'),\n",
       " ('spark.submit.deployMode', 'client'),\n",
       " ('spark.app.name', 'Sparkify-Data'),\n",
       " ('spark.driver.port', '50400'),\n",
       " ('spark.ui.showConsoleProgress', 'true'),\n",
       " ('spark.driver.host', 'DESKTOP-I7971JS')]"
      ]
     },
     "execution_count": 2,
     "metadata": {},
     "output_type": "execute_result"
    }
   ],
   "source": [
    "\n",
    "configure = SparkConf().setAppName(\"Sparkify-Data\").setMaster(\"local\")\n",
    "sc = SparkContext(conf = configure)\n",
    "\n",
    "spark = SparkSession \\\n",
    "        .builder \\\n",
    "        .appName(\"Sparkify-Data\") \\\n",
    "        .getOrCreate()\n",
    "\n",
    "spark.sparkContext.getConf().getAll()"
   ]
  },
  {
   "cell_type": "code",
   "execution_count": 3,
   "metadata": {},
   "outputs": [],
   "source": [
    "path = \"data/sparkify_data/mini_sparkify_event_data.json\"\n",
    "\n",
    "user_log = spark.read.json(path)"
   ]
  },
  {
   "cell_type": "code",
   "execution_count": 5,
   "metadata": {},
   "outputs": [
    {
     "name": "stdout",
     "output_type": "stream",
     "text": [
      "root\n",
      " |-- artist: string (nullable = true)\n",
      " |-- auth: string (nullable = true)\n",
      " |-- firstName: string (nullable = true)\n",
      " |-- gender: string (nullable = true)\n",
      " |-- itemInSession: long (nullable = true)\n",
      " |-- lastName: string (nullable = true)\n",
      " |-- length: double (nullable = true)\n",
      " |-- level: string (nullable = true)\n",
      " |-- location: string (nullable = true)\n",
      " |-- method: string (nullable = true)\n",
      " |-- page: string (nullable = true)\n",
      " |-- registration: long (nullable = true)\n",
      " |-- sessionId: long (nullable = true)\n",
      " |-- song: string (nullable = true)\n",
      " |-- status: long (nullable = true)\n",
      " |-- ts: long (nullable = true)\n",
      " |-- userAgent: string (nullable = true)\n",
      " |-- userId: string (nullable = true)\n",
      "\n"
     ]
    }
   ],
   "source": [
    "user_log.printSchema()"
   ]
  },
  {
   "cell_type": "code",
   "execution_count": 6,
   "metadata": {},
   "outputs": [
    {
     "name": "stdout",
     "output_type": "stream",
     "text": [
      "+-------+------------------+\n",
      "|summary|            artist|\n",
      "+-------+------------------+\n",
      "|  count|            228108|\n",
      "|   mean| 551.0852017937219|\n",
      "| stddev|1217.7693079161374|\n",
      "|    min|               !!!|\n",
      "|    max| ÃÂlafur Arnalds|\n",
      "+-------+------------------+\n",
      "\n"
     ]
    }
   ],
   "source": [
    "user_log.describe(\"artist\").show()"
   ]
  },
  {
   "cell_type": "code",
   "execution_count": 7,
   "metadata": {},
   "outputs": [
    {
     "data": {
      "text/plain": [
       "286500"
      ]
     },
     "execution_count": 7,
     "metadata": {},
     "output_type": "execute_result"
    }
   ],
   "source": [
    "user_log.count()"
   ]
  },
  {
   "cell_type": "code",
   "execution_count": 13,
   "metadata": {},
   "outputs": [
    {
     "name": "stdout",
     "output_type": "stream",
     "text": [
      "+--------------------+\n",
      "|                page|\n",
      "+--------------------+\n",
      "|               About|\n",
      "|          Add Friend|\n",
      "|     Add to Playlist|\n",
      "|              Cancel|\n",
      "|Cancellation Conf...|\n",
      "|           Downgrade|\n",
      "|               Error|\n",
      "|                Help|\n",
      "|                Home|\n",
      "|               Login|\n",
      "|              Logout|\n",
      "|            NextSong|\n",
      "|            Register|\n",
      "|         Roll Advert|\n",
      "|       Save Settings|\n",
      "|            Settings|\n",
      "|    Submit Downgrade|\n",
      "| Submit Registration|\n",
      "|      Submit Upgrade|\n",
      "|         Thumbs Down|\n",
      "+--------------------+\n",
      "only showing top 20 rows\n",
      "\n"
     ]
    }
   ],
   "source": [
    "user_log.select(\"page\").dropDuplicates().sort(\"page\").show()"
   ]
  },
  {
   "cell_type": "code",
   "execution_count": 16,
   "metadata": {},
   "outputs": [
    {
     "data": {
      "text/plain": [
       "[Row(userId='102', firstname='Justin', page='NextSong', song='Heads Will Roll'),\n",
       " Row(userId='102', firstname='Justin', page='NextSong', song='Bridge To Better Days'),\n",
       " Row(userId='102', firstname='Justin', page='Roll Advert', song=None),\n",
       " Row(userId='102', firstname='Justin', page='NextSong', song='Vanilla Twilight'),\n",
       " Row(userId='102', firstname='Justin', page='NextSong', song='Super Trouper'),\n",
       " Row(userId='102', firstname='Justin', page='NextSong', song='Celebration'),\n",
       " Row(userId='102', firstname='Justin', page='NextSong', song='Seven Nation Army'),\n",
       " Row(userId='102', firstname='Justin', page='NextSong', song='Verde Que Te Quero Rosa'),\n",
       " Row(userId='102', firstname='Justin', page='NextSong', song='Long_ Long Time Ago'),\n",
       " Row(userId='102', firstname='Justin', page='Roll Advert', song=None),\n",
       " Row(userId='102', firstname='Justin', page='NextSong', song='Starstruck'),\n",
       " Row(userId='102', firstname='Justin', page='Thumbs Up', song=None),\n",
       " Row(userId='102', firstname='Justin', page='NextSong', song='Candy'),\n",
       " Row(userId='102', firstname='Justin', page='NextSong', song='La Bayamesa'),\n",
       " Row(userId='102', firstname='Justin', page='Thumbs Up', song=None),\n",
       " Row(userId='102', firstname='Justin', page='NextSong', song='Love Missile F1-11'),\n",
       " Row(userId='102', firstname='Justin', page='Roll Advert', song=None),\n",
       " Row(userId='102', firstname='Justin', page='NextSong', song='I Dreamed A Dream'),\n",
       " Row(userId='102', firstname='Justin', page='NextSong', song='Never Gonna Be Alone (Album Version)'),\n",
       " Row(userId='102', firstname='Justin', page='Thumbs Down', song=None),\n",
       " Row(userId='102', firstname='Justin', page='NextSong', song='LoveStoned/I Think She Knows'),\n",
       " Row(userId='102', firstname='Justin', page='NextSong', song='Indestructible'),\n",
       " Row(userId='102', firstname='Justin', page='NextSong', song='Epilogue'),\n",
       " Row(userId='102', firstname='Justin', page='NextSong', song='Two Is Better Than One'),\n",
       " Row(userId='102', firstname='Justin', page='NextSong', song='Gold Guns Girls'),\n",
       " Row(userId='102', firstname='Justin', page='NextSong', song='Terminal'),\n",
       " Row(userId='102', firstname='Justin', page='NextSong', song='Everything Ends (Album Version)'),\n",
       " Row(userId='102', firstname='Justin', page='NextSong', song='Hold On_ Hold On'),\n",
       " Row(userId='102', firstname='Justin', page='Thumbs Up', song=None),\n",
       " Row(userId='102', firstname='Justin', page='NextSong', song='Tan Lejos'),\n",
       " Row(userId='102', firstname='Justin', page='Roll Advert', song=None),\n",
       " Row(userId='102', firstname='Justin', page='NextSong', song='La MÃ\\x83Âºsica'),\n",
       " Row(userId='102', firstname='Justin', page='NextSong', song='Boys Will Be Boys'),\n",
       " Row(userId='102', firstname='Justin', page='Roll Advert', song=None),\n",
       " Row(userId='102', firstname='Justin', page='NextSong', song='Horn Concerto No. 4 in E flat K495: II. Romance (Andante cantabile)'),\n",
       " Row(userId='102', firstname='Justin', page='NextSong', song='Focus'),\n",
       " Row(userId='102', firstname='Justin', page='Thumbs Up', song=None),\n",
       " Row(userId='102', firstname='Justin', page='NextSong', song='2 Bad'),\n",
       " Row(userId='102', firstname='Justin', page='NextSong', song='Til Sommer'),\n",
       " Row(userId='102', firstname='Justin', page='Roll Advert', song=None),\n",
       " Row(userId='102', firstname='Justin', page='NextSong', song='Sala De RecepÃ\\x83Â§Ã\\x83Â£o'),\n",
       " Row(userId='102', firstname='Justin', page='Roll Advert', song=None),\n",
       " Row(userId='102', firstname='Justin', page='NextSong', song='Supermassive Black Hole (Album Version)'),\n",
       " Row(userId='102', firstname='Justin', page='NextSong', song='Cold Desert'),\n",
       " Row(userId='102', firstname='Justin', page='NextSong', song='No Puedo Evitar (Pensar En Ti)'),\n",
       " Row(userId='102', firstname='Justin', page='Home', song=None),\n",
       " Row(userId='102', firstname='Justin', page='NextSong', song='Boa Sorte / Good Luck'),\n",
       " Row(userId='102', firstname='Justin', page='NextSong', song='240 Years Before Your Time'),\n",
       " Row(userId='102', firstname='Justin', page='NextSong', song='Shredded Humans'),\n",
       " Row(userId='102', firstname='Justin', page='NextSong', song='Dancing in the Moonlight'),\n",
       " Row(userId='102', firstname='Justin', page='Error', song=None),\n",
       " Row(userId='102', firstname='Justin', page='NextSong', song='Stay In The Shade'),\n",
       " Row(userId='102', firstname='Justin', page='Logout', song=None),\n",
       " Row(userId='102', firstname='Justin', page='Home', song=None),\n",
       " Row(userId='102', firstname='Justin', page='NextSong', song='The Unforgiven'),\n",
       " Row(userId='102', firstname='Justin', page='NextSong', song=\"Keep Reachin' Up\"),\n",
       " Row(userId='102', firstname='Justin', page='NextSong', song='Rec & Play'),\n",
       " Row(userId='102', firstname='Justin', page='NextSong', song='Absurd'),\n",
       " Row(userId='102', firstname='Justin', page='NextSong', song='EmborrÃ\\x83Â¡chame de Amor'),\n",
       " Row(userId='102', firstname='Justin', page='NextSong', song='House Of Broken Love'),\n",
       " Row(userId='102', firstname='Justin', page='NextSong', song='Black Balloon'),\n",
       " Row(userId='102', firstname='Justin', page='NextSong', song='Mia'),\n",
       " Row(userId='102', firstname='Justin', page='NextSong', song='Red Dirt Road'),\n",
       " Row(userId='102', firstname='Justin', page='NextSong', song='SinceritÃ\\x83Â© Et Jalousie'),\n",
       " Row(userId='102', firstname='Justin', page='NextSong', song='My Love Has Gone'),\n",
       " Row(userId='102', firstname='Justin', page='NextSong', song='Energy Level'),\n",
       " Row(userId='102', firstname='Justin', page='NextSong', song='After September 11'),\n",
       " Row(userId='102', firstname='Justin', page='NextSong', song='Three Seed'),\n",
       " Row(userId='102', firstname='Justin', page='Roll Advert', song=None),\n",
       " Row(userId='102', firstname='Justin', page='NextSong', song='Live To Win'),\n",
       " Row(userId='102', firstname='Justin', page='NextSong', song='Kabulectro'),\n",
       " Row(userId='102', firstname='Justin', page='NextSong', song=\"Virgin's Lullaby\"),\n",
       " Row(userId='102', firstname='Justin', page='NextSong', song='OHNE DICH'),\n",
       " Row(userId='102', firstname='Justin', page='NextSong', song='Take Me To Your Heart(with Hyesung)'),\n",
       " Row(userId='102', firstname='Justin', page='NextSong', song='The Mission (Go Album Version)'),\n",
       " Row(userId='102', firstname='Justin', page='NextSong', song=\"Cupid's Dead\"),\n",
       " Row(userId='102', firstname='Justin', page='NextSong', song='Baby (Album Version)'),\n",
       " Row(userId='102', firstname='Justin', page='Roll Advert', song=None),\n",
       " Row(userId='102', firstname='Justin', page='Home', song=None),\n",
       " Row(userId='102', firstname='Justin', page='NextSong', song='Superhereos'),\n",
       " Row(userId='102', firstname='Justin', page='NextSong', song=\"My Father's Eyes\"),\n",
       " Row(userId='102', firstname='Justin', page='NextSong', song='Monster (Album Version)'),\n",
       " Row(userId='102', firstname='Justin', page='Home', song=None),\n",
       " Row(userId='102', firstname='Justin', page='NextSong', song='Luna Lunera'),\n",
       " Row(userId='102', firstname='Justin', page='NextSong', song='Love Conquers Time (Album Version)'),\n",
       " Row(userId='102', firstname='Justin', page='Logout', song=None),\n",
       " Row(userId='102', firstname='Justin', page='Home', song=None),\n",
       " Row(userId='102', firstname='Justin', page='NextSong', song='Sweet Jane'),\n",
       " Row(userId='102', firstname='Justin', page='NextSong', song='An Ending (Ascent) (2005 Digital Remaster)'),\n",
       " Row(userId='102', firstname='Justin', page='Roll Advert', song=None),\n",
       " Row(userId='102', firstname='Justin', page='NextSong', song='Gigolos Get Lonely Too (LP Version)'),\n",
       " Row(userId='102', firstname='Justin', page='NextSong', song='Give It To You (Karaoke-Version) As Made Famous By: Jordan Knight'),\n",
       " Row(userId='102', firstname='Justin', page='NextSong', song='LDN'),\n",
       " Row(userId='102', firstname='Justin', page='NextSong', song='Neighbor_ Neighbor'),\n",
       " Row(userId='102', firstname='Justin', page='NextSong', song='Los Aviones'),\n",
       " Row(userId='102', firstname='Justin', page='NextSong', song='Recado Falado (MetrÃ\\x83Â´ Da Saudade)'),\n",
       " Row(userId='102', firstname='Justin', page='NextSong', song='My Year In Lists'),\n",
       " Row(userId='102', firstname='Justin', page='NextSong', song='Mouth To Mouth'),\n",
       " Row(userId='102', firstname='Justin', page='Roll Advert', song=None),\n",
       " Row(userId='102', firstname='Justin', page='NextSong', song='Undo'),\n",
       " Row(userId='102', firstname='Justin', page='NextSong', song='Helena (So Long & Goodnight) (Album Version)'),\n",
       " Row(userId='102', firstname='Justin', page='NextSong', song='Al VacÃ\\x83Â\\xado'),\n",
       " Row(userId='102', firstname='Justin', page='NextSong', song='Abnormal (Acoustic)'),\n",
       " Row(userId='102', firstname='Justin', page='NextSong', song='Making Money Off God feat. Bus Driver'),\n",
       " Row(userId='102', firstname='Justin', page='NextSong', song='Sehr kosmisch'),\n",
       " Row(userId='102', firstname='Justin', page='Logout', song=None),\n",
       " Row(userId='102', firstname='Justin', page='Home', song=None),\n",
       " Row(userId='102', firstname='Justin', page='NextSong', song='Own Little World'),\n",
       " Row(userId='102', firstname='Justin', page='NextSong', song='Get It Together'),\n",
       " Row(userId='102', firstname='Justin', page='Roll Advert', song=None),\n",
       " Row(userId='102', firstname='Justin', page='NextSong', song='Pearl Vision'),\n",
       " Row(userId='102', firstname='Justin', page='NextSong', song='Do You Know Me'),\n",
       " Row(userId='102', firstname='Justin', page='NextSong', song='Could Be Anything'),\n",
       " Row(userId='102', firstname='Justin', page='NextSong', song='Gravity'),\n",
       " Row(userId='102', firstname='Justin', page='NextSong', song='VÃ\\x83Â\\x81NDORMADÃ\\x83Â\\x81R'),\n",
       " Row(userId='102', firstname='Justin', page='NextSong', song='Walk It Out'),\n",
       " Row(userId='102', firstname='Justin', page='NextSong', song='El Machete'),\n",
       " Row(userId='102', firstname='Justin', page='NextSong', song='Always Where I Need To Be'),\n",
       " Row(userId='102', firstname='Justin', page='NextSong', song='Whatcha Say'),\n",
       " Row(userId='102', firstname='Justin', page='NextSong', song='Use Somebody'),\n",
       " Row(userId='102', firstname='Justin', page='NextSong', song='Hello Old Friend'),\n",
       " Row(userId='102', firstname='Justin', page='NextSong', song='I Am Not My Hair'),\n",
       " Row(userId='102', firstname='Justin', page='NextSong', song='Get Get Down (Original Mix)'),\n",
       " Row(userId='102', firstname='Justin', page='NextSong', song=\"So You Think You're Special\"),\n",
       " Row(userId='102', firstname='Justin', page='Roll Advert', song=None),\n",
       " Row(userId='102', firstname='Justin', page='NextSong', song='My Moon My Man'),\n",
       " Row(userId='102', firstname='Justin', page='Thumbs Down', song=None),\n",
       " Row(userId='102', firstname='Justin', page='NextSong', song='Ding A Ling'),\n",
       " Row(userId='102', firstname='Justin', page='NextSong', song='Generator'),\n",
       " Row(userId='102', firstname='Justin', page='NextSong', song='Life In Technicolor ii'),\n",
       " Row(userId='102', firstname='Justin', page='NextSong', song='Solar Confinement'),\n",
       " Row(userId='102', firstname='Justin', page='NextSong', song='Angry Chair'),\n",
       " Row(userId='102', firstname='Justin', page='NextSong', song='You Got A Henna Tattoo That Said Forever (Album Version)'),\n",
       " Row(userId='102', firstname='Justin', page='NextSong', song='A Beggar On A Beach Of Gold'),\n",
       " Row(userId='102', firstname='Justin', page='NextSong', song='Zal Ik Er Zijn'),\n",
       " Row(userId='102', firstname='Justin', page='Settings', song=None),\n",
       " Row(userId='102', firstname='Justin', page='NextSong', song='Elephant Gun'),\n",
       " Row(userId='102', firstname='Justin', page='NextSong', song='Scrub Da Ground'),\n",
       " Row(userId='102', firstname='Justin', page='NextSong', song='These Walls (Album Version)'),\n",
       " Row(userId='102', firstname='Justin', page='Logout', song=None),\n",
       " Row(userId='102', firstname='Justin', page='Home', song=None),\n",
       " Row(userId='102', firstname='Justin', page='NextSong', song='Breakeven'),\n",
       " Row(userId='102', firstname='Justin', page='NextSong', song=\"There's Only One  (LP Version)\"),\n",
       " Row(userId='102', firstname='Justin', page='NextSong', song='Underdog'),\n",
       " Row(userId='102', firstname='Justin', page='NextSong', song='Unknown Brother'),\n",
       " Row(userId='102', firstname='Justin', page='NextSong', song='Imagine'),\n",
       " Row(userId='102', firstname='Justin', page='Roll Advert', song=None),\n",
       " Row(userId='102', firstname='Justin', page='NextSong', song='Cross Your Fingers (Single Version)'),\n",
       " Row(userId='102', firstname='Justin', page='NextSong', song='El Ultimo Beso'),\n",
       " Row(userId='102', firstname='Justin', page='Home', song=None),\n",
       " Row(userId='102', firstname='Justin', page='NextSong', song='Guys Like Me'),\n",
       " Row(userId='102', firstname='Justin', page='NextSong', song=\"If I Can't Have You\"),\n",
       " Row(userId='102', firstname='Justin', page='NextSong', song='Love Story'),\n",
       " Row(userId='102', firstname='Justin', page='Home', song=None),\n",
       " Row(userId='102', firstname='Justin', page='NextSong', song='Cream (Paul van Dyk Remix)'),\n",
       " Row(userId='102', firstname='Justin', page='Roll Advert', song=None),\n",
       " Row(userId='102', firstname='Justin', page='NextSong', song='Photograph'),\n",
       " Row(userId='102', firstname='Justin', page='Thumbs Up', song=None),\n",
       " Row(userId='102', firstname='Justin', page='Add to Playlist', song=None),\n",
       " Row(userId='102', firstname='Justin', page='NextSong', song=\"Ain't Misbehavin\"),\n",
       " Row(userId='102', firstname='Justin', page='NextSong', song='Sehr kosmisch'),\n",
       " Row(userId='102', firstname='Justin', page='Thumbs Up', song=None),\n",
       " Row(userId='102', firstname='Justin', page='NextSong', song='Lenny Bro'),\n",
       " Row(userId='102', firstname='Justin', page='NextSong', song='Master Of Puppets'),\n",
       " Row(userId='102', firstname='Justin', page='NextSong', song='Alejandro'),\n",
       " Row(userId='102', firstname='Justin', page='NextSong', song='Mi Vida No Hay Derecho'),\n",
       " Row(userId='102', firstname='Justin', page='NextSong', song=\"I CAN'T GET STARTED\"),\n",
       " Row(userId='102', firstname='Justin', page='NextSong', song='Twenty Three'),\n",
       " Row(userId='102', firstname='Justin', page='NextSong', song='Check Yes Juliet'),\n",
       " Row(userId='102', firstname='Justin', page='NextSong', song='Xehasmeni Melodia'),\n",
       " Row(userId='102', firstname='Justin', page='NextSong', song='Death 9000'),\n",
       " Row(userId='102', firstname='Justin', page='NextSong', song='One Wing'),\n",
       " Row(userId='102', firstname='Justin', page='Roll Advert', song=None),\n",
       " Row(userId='102', firstname='Justin', page='NextSong', song='The Prowl'),\n",
       " Row(userId='102', firstname='Justin', page='NextSong', song=\"When I'm Gone\"),\n",
       " Row(userId='102', firstname='Justin', page='NextSong', song='Messiah'),\n",
       " Row(userId='102', firstname='Justin', page='NextSong', song='Say Yeah [Radio Edit]'),\n",
       " Row(userId='102', firstname='Justin', page='NextSong', song='Water Curses'),\n",
       " Row(userId='102', firstname='Justin', page='NextSong', song='No More Angels'),\n",
       " Row(userId='102', firstname='Justin', page='NextSong', song=\"La Valse D'AmÃ\\x83Â©lie (Version Orchestre)\"),\n",
       " Row(userId='102', firstname='Justin', page='NextSong', song='Make Love All Night Long'),\n",
       " Row(userId='102', firstname='Justin', page='NextSong', song='The Crow & The Butterfly (Album Version)'),\n",
       " Row(userId='102', firstname='Justin', page='NextSong', song='Serenity'),\n",
       " Row(userId='102', firstname='Justin', page='NextSong', song='I Throw My Toys Around'),\n",
       " Row(userId='102', firstname='Justin', page='NextSong', song='Cherbourg'),\n",
       " Row(userId='102', firstname='Justin', page='NextSong', song='Innocent Son'),\n",
       " Row(userId='102', firstname='Justin', page='Home', song=None),\n",
       " Row(userId='102', firstname='Justin', page='NextSong', song=\"It's My Life\"),\n",
       " Row(userId='102', firstname='Justin', page='NextSong', song='Paradise City'),\n",
       " Row(userId='102', firstname='Justin', page='NextSong', song='First Day Of My Life (Single Version)'),\n",
       " Row(userId='102', firstname='Justin', page='NextSong', song='Auditorium'),\n",
       " Row(userId='102', firstname='Justin', page='NextSong', song='Heaven Must Be Missing An Angel'),\n",
       " Row(userId='102', firstname='Justin', page='Home', song=None),\n",
       " Row(userId='102', firstname='Justin', page='NextSong', song='You And Me (Wedding Version)'),\n",
       " Row(userId='102', firstname='Justin', page='NextSong', song='Esa noche'),\n",
       " Row(userId='102', firstname='Justin', page='NextSong', song='The Cynic'),\n",
       " Row(userId='102', firstname='Justin', page='NextSong', song='Love Bomb'),\n",
       " Row(userId='102', firstname='Justin', page='NextSong', song='When You Were Young'),\n",
       " Row(userId='102', firstname='Justin', page='NextSong', song='The Scientist'),\n",
       " Row(userId='102', firstname='Justin', page='Roll Advert', song=None),\n",
       " Row(userId='102', firstname='Justin', page='NextSong', song='All Over You'),\n",
       " Row(userId='102', firstname='Justin', page='Logout', song=None)]"
      ]
     },
     "execution_count": 16,
     "metadata": {},
     "output_type": "execute_result"
    }
   ],
   "source": [
    "user_log.select([\"userId\",\"firstname\",\"page\",\"song\"]).where(user_log.userId == '102').collect()"
   ]
  },
  {
   "cell_type": "code",
   "execution_count": 17,
   "metadata": {},
   "outputs": [],
   "source": [
    "get_hour = udf(lambda x: datetime.datetime.fromtimestamp(x/1000.0).hour)\n",
    "user_log = user_log.withColumn(\"hour\",get_hour(user_log.ts))"
   ]
  },
  {
   "cell_type": "code",
   "execution_count": 18,
   "metadata": {},
   "outputs": [
    {
     "data": {
      "text/plain": [
       "Row(artist='Martha Tilston', auth='Logged In', firstName='Colin', gender='M', itemInSession=50, lastName='Freeman', length=277.89016, level='paid', location='Bakersfield, CA', method='PUT', page='NextSong', registration=1538173362000, sessionId=29, song='Rockpools', status=200, ts=1538352117000, userAgent='Mozilla/5.0 (Windows NT 6.1; WOW64; rv:31.0) Gecko/20100101 Firefox/31.0', userId='30', hour='5')"
      ]
     },
     "execution_count": 18,
     "metadata": {},
     "output_type": "execute_result"
    }
   ],
   "source": [
    "user_log.head()"
   ]
  },
  {
   "cell_type": "code",
   "execution_count": 27,
   "metadata": {},
   "outputs": [
    {
     "name": "stdout",
     "output_type": "stream",
     "text": [
      "+----+-----+\n",
      "|hour|count|\n",
      "+----+-----+\n",
      "|   0|10930|\n",
      "|   1|10856|\n",
      "|   2|10458|\n",
      "|   3|10122|\n",
      "|   4| 9630|\n",
      "|   5| 9062|\n",
      "|   6| 8388|\n",
      "|   7| 8336|\n",
      "|   8| 8355|\n",
      "|   9| 8147|\n",
      "|  10| 8178|\n",
      "|  11| 8054|\n",
      "|  12| 8091|\n",
      "|  13| 8253|\n",
      "|  14| 8498|\n",
      "|  15| 8882|\n",
      "|  16| 8830|\n",
      "|  17| 9326|\n",
      "|  18| 9644|\n",
      "|  19|10494|\n",
      "+----+-----+\n",
      "only showing top 20 rows\n",
      "\n"
     ]
    }
   ],
   "source": [
    "_hour = user_log.filter(user_log.page == \"NextSong\").groupBy(user_log.hour).count().orderBy(user_log.hour.cast(\"float\"))\n",
    "_hour.show()"
   ]
  },
  {
   "cell_type": "code",
   "execution_count": 28,
   "metadata": {},
   "outputs": [],
   "source": [
    "song_in_hour_pd = _hour.toPandas()"
   ]
  },
  {
   "cell_type": "code",
   "execution_count": 35,
   "metadata": {},
   "outputs": [
    {
     "data": {
      "text/plain": [
       "Text(0, 0.5, 'Song Played')"
      ]
     },
     "execution_count": 35,
     "metadata": {},
     "output_type": "execute_result"
    },
    {
     "data": {
      "image/png": "[encoded data removed]",
      "text/plain": [
       "<Figure size 432x288 with 1 Axes>"
      ]
     },
     "metadata": {
      "needs_background": "light"
     },
     "output_type": "display_data"
    }
   ],
   "source": [
    "plt.scatter(song_in_hour_pd[\"hour\"],song_in_hour_pd[\"count\"])\n",
    "plt.xlim(-1,29)\n",
    "plt.ylim(0,1.1*max(song_in_hour_pd[\"count\"]))\n",
    "plt.xlabel(\"Hour\")\n",
    "plt.ylabel(\"Song Played\")"
   ]
  },
  {
   "cell_type": "code",
   "execution_count": 36,
   "metadata": {},
   "outputs": [
    {
     "data": {
      "text/plain": [
       "286500"
      ]
     },
     "execution_count": 36,
     "metadata": {},
     "output_type": "execute_result"
    }
   ],
   "source": [
    "user_log_valid = user_log.dropna(how=\"any\",subset=[\"userId\",\"sessionId\"])\n",
    "user_log_valid.count()"
   ]
  },
  {
   "cell_type": "code",
   "execution_count": 37,
   "metadata": {},
   "outputs": [
    {
     "name": "stdout",
     "output_type": "stream",
     "text": [
      "+------+\n",
      "|userId|\n",
      "+------+\n",
      "|      |\n",
      "|    10|\n",
      "|   100|\n",
      "|100001|\n",
      "|100002|\n",
      "|100003|\n",
      "|100004|\n",
      "|100005|\n",
      "|100006|\n",
      "|100007|\n",
      "|100008|\n",
      "|100009|\n",
      "|100010|\n",
      "|100011|\n",
      "|100012|\n",
      "|100013|\n",
      "|100014|\n",
      "|100015|\n",
      "|100016|\n",
      "|100017|\n",
      "+------+\n",
      "only showing top 20 rows\n",
      "\n"
     ]
    }
   ],
   "source": [
    "user_log.select(\"userId\").dropDuplicates().sort(\"userId\").show()"
   ]
  },
  {
   "cell_type": "code",
   "execution_count": 38,
   "metadata": {},
   "outputs": [
    {
     "data": {
      "text/plain": [
       "278154"
      ]
     },
     "execution_count": 38,
     "metadata": {},
     "output_type": "execute_result"
    }
   ],
   "source": [
    "user_log_valid = user_log_valid.filter(user_log_valid[\"userId\"] != \"\")\n",
    "user_log_valid.count()"
   ]
  },
  {
   "cell_type": "code",
   "execution_count": 39,
   "metadata": {},
   "outputs": [
    {
     "name": "stdout",
     "output_type": "stream",
     "text": [
      "+------+---------+---------+------+-------------+---------+------+-----+--------------------+------+----------------+-------------+---------+----+------+-------------+--------------------+------+----+\n",
      "|artist|     auth|firstName|gender|itemInSession| lastName|length|level|            location|method|            page| registration|sessionId|song|status|           ts|           userAgent|userId|hour|\n",
      "+------+---------+---------+------+-------------+---------+------+-----+--------------------+------+----------------+-------------+---------+----+------+-------------+--------------------+------+----+\n",
      "|  null|Logged In|     Kael|     M|           47|    Baker|  null| paid|Kingsport-Bristol...|   PUT|Submit Downgrade|1533102330000|      249|null|   307|1538393619000|\"Mozilla/5.0 (Mac...|   131|  16|\n",
      "|  null|Logged In|   Calvin|     M|           17| Marshall|  null| paid|      Pittsburgh, PA|   PUT|Submit Downgrade|1537120757000|      313|null|   307|1538516445000|\"Mozilla/5.0 (Mac...|    38|   2|\n",
      "|  null|Logged In|  Kaylenn|     F|          354|  Jenkins|  null| paid|           Price, UT|   PUT|Submit Downgrade|1535903878000|      479|null|   307|1538835479000|\"Mozilla/5.0 (Mac...|   141|  19|\n",
      "|  null|Logged In|    Colin|     M|          214|  Freeman|  null| paid|     Bakersfield, CA|   PUT|Submit Downgrade|1538173362000|      532|null|   307|1538995454000|Mozilla/5.0 (Wind...|    30|  15|\n",
      "|  null|Logged In|  Destiny|     F|            2|  Herring|  null| paid|Miami-Fort Lauder...|   PUT|Submit Downgrade|1536844410000|      378|null|   307|1538997356000|\"Mozilla/5.0 (Win...|    20|  16|\n",
      "|  null|Logged In|   Sophia|     F|           42|    Perry|  null| paid|Los Angeles-Long ...|   PUT|Submit Downgrade|1533885783000|      632|null|   307|1539144047000|Mozilla/5.0 (Wind...|    12|   9|\n",
      "|  null|Logged In|      Zoe|     F|           23|    Patel|  null| paid|Providence-Warwic...|   PUT|Submit Downgrade|1532554781000|      487|null|   307|1539239742000|Mozilla/5.0 (Wind...|    11|  11|\n",
      "|  null|Logged In|   Parker|     M|          636| Williams|  null| paid|San Francisco-Oak...|   PUT|Submit Downgrade|1537188538000|      529|null|   307|1539244188000|\"Mozilla/5.0 (iPh...|    61|  12|\n",
      "|  null|Logged In|   Oliver|     M|           89|  Gilbert|  null| paid|Philadelphia-Camd...|   PUT|Submit Downgrade|1535093367000|      725|null|   307|1539264337000|\"Mozilla/5.0 (Mac...|    81|  18|\n",
      "|  null|Logged In|  Brayden|     M|          113|   Thomas|  null| paid|Los Angeles-Long ...|   PUT|Submit Downgrade|1534133898000|      734|null|   307|1539335599000|\"Mozilla/5.0 (Mac...|    85|  14|\n",
      "|  null|Logged In|   Lucero|     F|           19|     Reed|  null| paid|Louisville/Jeffer...|   PUT|Submit Downgrade|1536642109000|      753|null|   307|1539337383000|\"Mozilla/5.0 (Win...|   140|  14|\n",
      "|  null|Logged In|     Lily|     F|           69|  Barnett|  null| paid|Washington-Arling...|   PUT|Submit Downgrade|1537053412000|      812|null|   307|1539467798000|\"Mozilla/5.0 (Mac...|    35|   2|\n",
      "|  null|Logged In|    Alexi|     F|           41|   Warren|  null| paid|Spokane-Spokane V...|   PUT|Submit Downgrade|1532482662000|      859|null|   307|1539608060000|Mozilla/5.0 (Wind...|    54|  17|\n",
      "|  null|Logged In|   Autumn|     F|           53|   Martin|  null| paid|     Gainesville, FL|   PUT|Submit Downgrade|1537749786000|      688|null|   307|1539608338000|\"Mozilla/5.0 (Win...|    77|  17|\n",
      "|  null|Logged In|   Jaleel|     M|          180|Maldonado|  null| paid|         Boulder, CO|   PUT|Submit Downgrade|1537890437000|      510|null|   307|1539633167000|Mozilla/5.0 (Wind...|    59|   0|\n",
      "|  null|Logged In|    Piper|     F|          210|  Nielsen|  null| paid|New York-Newark-J...|   PUT|Submit Downgrade|1537699856000|      865|null|   307|1539647785000|\"Mozilla/5.0 (Mac...|   103|   4|\n",
      "|  null|Logged In|    Faigy|     F|          101|     Howe|  null| paid|Phoenix-Mesa-Scot...|   PUT|Submit Downgrade|1538211832000|      826|null|   307|1539675894000|Mozilla/5.0 (Maci...|    95|  12|\n",
      "|  null|Logged In|  Ashlynn|     F|          303| Williams|  null| paid|     Tallahassee, FL|   PUT|Submit Downgrade|1537365219000|     1101|null|   307|1540235073000|\"Mozilla/5.0 (Mac...|    74|   0|\n",
      "|  null|Logged In|  Brayden|     M|          105|   Thomas|  null| paid|Los Angeles-Long ...|   PUT|Submit Downgrade|1534133898000|     1183|null|   307|1540383285000|\"Mozilla/5.0 (Mac...|    85|  17|\n",
      "|  null|Logged In|    Micah|     M|           11|     Long|  null| paid|Boston-Cambridge-...|   PUT|Submit Downgrade|1538331630000|     1276|null|   307|1540706007000|\"Mozilla/5.0 (Win...|     9|  10|\n",
      "+------+---------+---------+------+-------------+---------+------+-----+--------------------+------+----------------+-------------+---------+----+------+-------------+--------------------+------+----+\n",
      "only showing top 20 rows\n",
      "\n"
     ]
    }
   ],
   "source": [
    "#User who requested downGrade of their Account\n",
    "user_log_valid.filter(\"page = 'Submit Downgrade'\").show()"
   ]
  },
  {
   "cell_type": "code",
   "execution_count": 40,
   "metadata": {},
   "outputs": [
    {
     "name": "stdout",
     "output_type": "stream",
     "text": [
      "+---------+---------------+-----+--------------------+\n",
      "|firstname|           page|level|                song|\n",
      "+---------+---------------+-----+--------------------+\n",
      "|     Kael|       NextSong| free|       Fade To Black|\n",
      "|     Kael|       NextSong| free|   Nothingman (Live)|\n",
      "|     Kael|       NextSong| free|          Fuck Kitty|\n",
      "|     Kael|       NextSong| free|      Half The Truth|\n",
      "|     Kael|       NextSong| free|(You Make Me Feel...|\n",
      "|     Kael|       NextSong| free|       Feel The Beat|\n",
      "|     Kael|       NextSong| free|                Luno|\n",
      "|     Kael|       NextSong| free|          Angie Baby|\n",
      "|     Kael|       NextSong| free|Robot Soul (Radio...|\n",
      "|     Kael|       NextSong| free|          Without Me|\n",
      "|     Kael|       NextSong| free|         Close To Me|\n",
      "|     Kael|       NextSong| free|Don't Take My Lov...|\n",
      "|     Kael|       NextSong| free|             So Sick|\n",
      "|     Kael|       NextSong| free|         Bust A Move|\n",
      "|     Kael|       NextSong| free|  Sugar Candy Kisses|\n",
      "|     Kael|       NextSong| free|                XRDS|\n",
      "|     Kael|       NextSong| free|               48/49|\n",
      "|     Kael|       NextSong| free|               Kelma|\n",
      "|     Kael|Add to Playlist| free|                null|\n",
      "|     Kael|       NextSong| free|Only You (Illumin...|\n",
      "+---------+---------------+-----+--------------------+\n",
      "only showing top 20 rows\n",
      "\n"
     ]
    }
   ],
   "source": [
    "user_log.select([\"firstname\",\"page\",\"level\",\"song\"]).where(user_log.userId == '131').show()"
   ]
  },
  {
   "cell_type": "code",
   "execution_count": 43,
   "metadata": {},
   "outputs": [
    {
     "data": {
      "text/plain": [
       "Row(artist='Martha Tilston', auth='Logged In', firstName='Colin', gender='M', itemInSession=50, lastName='Freeman', length=277.89016, level='paid', location='Bakersfield, CA', method='PUT', page='NextSong', registration=1538173362000, sessionId=29, song='Rockpools', status=200, ts=1538352117000, userAgent='Mozilla/5.0 (Windows NT 6.1; WOW64; rv:31.0) Gecko/20100101 Firefox/31.0', userId='30', hour='5', downGraded=0)"
      ]
     },
     "execution_count": 43,
     "metadata": {},
     "output_type": "execute_result"
    }
   ],
   "source": [
    "flag_downgrade_event = udf(lambda x: 1 if x == 'Submit Downgrade' else 0,IntegerType())\n",
    "user_log_valid = user_log_valid.withColumn(\"downGraded\",flag_downgrade_event(\"page\"))\n",
    "user_log_valid.head()"
   ]
  },
  {
   "cell_type": "code",
   "execution_count": 44,
   "metadata": {},
   "outputs": [],
   "source": [
    "from pyspark.sql import Window"
   ]
  },
  {
   "cell_type": "code",
   "execution_count": 46,
   "metadata": {},
   "outputs": [],
   "source": [
    "windowval = Window.partitionBy(\"userId\").orderBy(desc(\"ts\")).rangeBetween(Window.unboundedPreceding,0)"
   ]
  },
  {
   "cell_type": "code",
   "execution_count": 47,
   "metadata": {},
   "outputs": [],
   "source": [
    "user_log_valid = user_log_valid.withColumn(\"phase\",Fsum(\"downGraded\").over(windowval))"
   ]
  },
  {
   "cell_type": "code",
   "execution_count": 51,
   "metadata": {},
   "outputs": [
    {
     "name": "stdout",
     "output_type": "stream",
     "text": [
      "+---------+---------------+-----+--------------------+-----+\n",
      "|firstname|           page|level|                song|phase|\n",
      "+---------+---------------+-----+--------------------+-----+\n",
      "|     Kael|       NextSong| free|       Fade To Black|    2|\n",
      "|     Kael|       NextSong| free|   Nothingman (Live)|    2|\n",
      "|     Kael|       NextSong| free|          Fuck Kitty|    2|\n",
      "|     Kael|       NextSong| free|      Half The Truth|    2|\n",
      "|     Kael|       NextSong| free|(You Make Me Feel...|    2|\n",
      "|     Kael|       NextSong| free|       Feel The Beat|    2|\n",
      "|     Kael|       NextSong| free|                Luno|    2|\n",
      "|     Kael|       NextSong| free|          Angie Baby|    2|\n",
      "|     Kael|       NextSong| free|Robot Soul (Radio...|    2|\n",
      "|     Kael|       NextSong| free|          Without Me|    2|\n",
      "|     Kael|       NextSong| free|         Close To Me|    2|\n",
      "|     Kael|       NextSong| free|Don't Take My Lov...|    2|\n",
      "|     Kael|       NextSong| free|             So Sick|    2|\n",
      "|     Kael|       NextSong| free|         Bust A Move|    2|\n",
      "|     Kael|       NextSong| free|  Sugar Candy Kisses|    2|\n",
      "|     Kael|       NextSong| free|                XRDS|    2|\n",
      "|     Kael|       NextSong| free|               48/49|    2|\n",
      "|     Kael|       NextSong| free|               Kelma|    2|\n",
      "|     Kael|Add to Playlist| free|                null|    2|\n",
      "|     Kael|       NextSong| free|Only You (Illumin...|    2|\n",
      "+---------+---------------+-----+--------------------+-----+\n",
      "only showing top 20 rows\n",
      "\n"
     ]
    }
   ],
   "source": [
    "user_log_valid.select([\"firstname\",\"page\",\"level\",\"song\",\"phase\"]).where(user_log.userId == '131').sort(\"ts\").show()"
   ]
  },
  {
   "cell_type": "code",
   "execution_count": null,
   "metadata": {},
   "outputs": [],
   "source": []
  }
 ],
 "metadata": {
  "kernelspec": {
   "display_name": "Python 3",
   "language": "python",
   "name": "python3"
  },
  "language_info": {
   "codemirror_mode": {
    "name": "ipython",
    "version": 3
   },
   "file_extension": ".py",
   "mimetype": "text/x-python",
   "name": "python",
   "nbconvert_exporter": "python",
   "pygments_lexer": "ipython3",
   "version": "3.7.6"
  }
 },
 "nbformat": 4,
 "nbformat_minor": 4
}
