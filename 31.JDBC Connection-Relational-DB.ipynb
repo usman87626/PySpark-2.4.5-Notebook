{
 "cells": [
  {
   "cell_type": "code",
   "execution_count": 1,
   "metadata": {},
   "outputs": [
    {
     "data": {
      "text/plain": [
       "[('spark.master', 'local'),\n",
       " ('spark.app.id', 'local-1590506512781'),\n",
       " ('spark.rdd.compress', 'True'),\n",
       " ('spark.serializer.objectStreamReset', '100'),\n",
       " ('spark.app.name', 'MySQL-Integration'),\n",
       " ('spark.executor.id', 'driver'),\n",
       " ('spark.submit.deployMode', 'client'),\n",
       " ('spark.jars', 'mysql-connector-java-8.0.16.jar'),\n",
       " ('spark.driver.port', '59333'),\n",
       " ('spark.ui.showConsoleProgress', 'true'),\n",
       " ('spark.driver.host', 'DESKTOP-I7971JS')]"
      ]
     },
     "execution_count": 1,
     "metadata": {},
     "output_type": "execute_result"
    }
   ],
   "source": [
    "from pyspark.sql import SparkSession\n",
    "from pyspark import SparkContext,SparkConf\n",
    "\n",
    "configure = SparkConf().setAppName(\"MySQL-Integration\").setMaster(\"local\")\n",
    "sc = SparkContext(conf = configure)\n",
    "\n",
    "spark = SparkSession.builder \\\n",
    "        .appName(\"MySQL-Integration\") \\\n",
    "        .config(\"spark.jars\",\"mysql-connector-java-8.0.16.jar\") \\\n",
    "        .getOrCreate()\n",
    "    \n",
    "spark.sparkContext.getConf().getAll()"
   ]
  },
  {
   "cell_type": "code",
   "execution_count": 2,
   "metadata": {},
   "outputs": [
    {
     "name": "stdout",
     "output_type": "stream",
     "text": [
      "jdbc:mysql://localhost:3306/test\n"
     ]
    }
   ],
   "source": [
    "url = \"jdbc:mysql://localhost/test\"\n",
    "driver=\"com.mysql.jdbc.Driver\"\n",
    "table_name=\"customers\"\n",
    "host_name = \"localhost\"\n",
    "port = str(3306)\n",
    "user_name = \"root\"\n",
    "password = \"root\"\n",
    "dbname = \"test\"\n",
    "\n",
    "jdbc_url = \"jdbc:mysql://\" + host_name + \":\" + port + \"/\" + dbname\n",
    "print(jdbc_url)"
   ]
  },
  {
   "cell_type": "code",
   "execution_count": 3,
   "metadata": {},
   "outputs": [],
   "source": [
    "df = spark.read.format(\"jdbc\") \\\n",
    "        .option(\"url\", url) \\\n",
    "        .option(\"driver\", driver) \\\n",
    "        .option(\"dbtable\", table_name) \\\n",
    "        .option(\"user\", user_name) \\\n",
    "        .option(\"password\", password) \\\n",
    "        .load() \n"
   ]
  },
  {
   "cell_type": "code",
   "execution_count": 4,
   "metadata": {},
   "outputs": [],
   "source": [
    "df.createOrReplaceTempView(\"df\")"
   ]
  },
  {
   "cell_type": "code",
   "execution_count": 5,
   "metadata": {},
   "outputs": [
    {
     "name": "stdout",
     "output_type": "stream",
     "text": [
      "+-----------+-------------+--------------------+-------------+-------------+----------------+----------------+\n",
      "|customer_id|customer_name|      customer_email|customer_type|customer_pass|customer_contact|customer_address|\n",
      "+-----------+-------------+--------------------+-------------+-------------+----------------+----------------+\n",
      "|          3|      testing|      test@gmail.com|         user|         test|      0303020203|  test board GPU|\n",
      "|          4|       tester|    tester@gmail.com|         user|       tester|       098876683|   tester colony|\n",
      "|          5|        USMAN|usman.arif@gmail.com|         free|         pass|     09898833221|          tester|\n",
      "|          6|       USMAN1|usman.arif1@gmail...|         user|       passwd|     09898443221|         tester1|\n",
      "|          7|      USMAN21|usman.arif21@gmai...|          usr|      passwd2|     09898243221|         tester2|\n",
      "|          8|      pyspark|   pyspark@gmail.com|         user|         1234|     03434782748|          tester|\n",
      "+-----------+-------------+--------------------+-------------+-------------+----------------+----------------+\n",
      "\n"
     ]
    }
   ],
   "source": [
    "spark.sql(\"SELECT * FROM df\").show()"
   ]
  },
  {
   "cell_type": "code",
   "execution_count": 26,
   "metadata": {},
   "outputs": [
    {
     "name": "stdout",
     "output_type": "stream",
     "text": [
      "+-----------+-------------+--------------------+-------------+-------------+----------------+----------------+\n",
      "|customer_id|customer_name|      customer_email|customer_type|customer_pass|customer_contact|customer_address|\n",
      "+-----------+-------------+--------------------+-------------+-------------+----------------+----------------+\n",
      "|          3|      testing|      test@gmail.com|         user|         test|      0303020203|  test board GPU|\n",
      "|          4|       tester|    tester@gmail.com|         user|       tester|       098876683|   tester colony|\n",
      "|          5|        USMAN|usman.arif@gmail.com|         free|         pass|     09898833221|          tester|\n",
      "|          6|       USMAN1|usman.arif1@gmail...|         user|       passwd|     09898443221|         tester1|\n",
      "|          7|      USMAN21|usman.arif21@gmai...|          usr|      passwd2|     09898243221|         tester2|\n",
      "|          8|      pyspark|   pyspark@gmail.com|         user|         1234|     03434782748|          tester|\n",
      "+-----------+-------------+--------------------+-------------+-------------+----------------+----------------+\n",
      "\n"
     ]
    }
   ],
   "source": [
    "spark.sql(\"INSERT INTO df VALUES ('8','pyspark','pyspark@gmail.com','user','1234','03434782748','tester')\")\n",
    "spark.sql(\"SELECT * FROM df\").show()"
   ]
  },
  {
   "cell_type": "code",
   "execution_count": null,
   "metadata": {},
   "outputs": [],
   "source": []
  }
 ],
 "metadata": {
  "kernelspec": {
   "display_name": "Python 3",
   "language": "python",
   "name": "python3"
  },
  "language_info": {
   "codemirror_mode": {
    "name": "ipython",
    "version": 3
   },
   "file_extension": ".py",
   "mimetype": "text/x-python",
   "name": "python",
   "nbconvert_exporter": "python",
   "pygments_lexer": "ipython3",
   "version": "3.7.6"
  }
 },
 "nbformat": 4,
 "nbformat_minor": 4
}
