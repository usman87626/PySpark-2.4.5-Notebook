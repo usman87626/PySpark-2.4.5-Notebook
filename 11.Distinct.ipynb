{
 "cells": [
  {
   "cell_type": "markdown",
   "metadata": {},
   "source": [
    "# distinct():\n",
    "                Syntax: RDD.distinct(numPartitions=None)\n",
    "\n",
    "The distinct() transformation returns a new RDD containing distinct elements from the input\n",
    "RDD. It is used to remove duplicates, where duplicates are defined as having all elements or fields\n",
    "within a record that are the same as other records in the dataset. The numPartitions argument\n",
    "can redistribute data to a target number of partitions; if this is not supplied or is left at the default,\n",
    "the number of partitions returned by the distinct() transformation is identical to the number\n",
    "of partitions from the RDD operated against."
   ]
  },
  {
   "cell_type": "code",
   "execution_count": 1,
   "metadata": {},
   "outputs": [],
   "source": [
    "from pyspark.context import SparkContext\n",
    "from pyspark.sql.session import SparkSession"
   ]
  },
  {
   "cell_type": "code",
   "execution_count": 2,
   "metadata": {},
   "outputs": [],
   "source": [
    "sc = SparkContext(\"local\")\n",
    "spark = SparkSession(sc)"
   ]
  },
  {
   "cell_type": "code",
   "execution_count": 3,
   "metadata": {},
   "outputs": [],
   "source": [
    "licenses = sc.textFile(\"file:///opt/Spark/licenses/\")\n",
    "words = licenses.flatMap(lambda x:x.split(' '))\n",
    "lower = words.map(lambda x:x.lower())\n",
    "allWords = lower.count()\n",
    "distinctW = lower.distinct()\n",
    "distWords = distinctW.count()"
   ]
  },
  {
   "cell_type": "code",
   "execution_count": 4,
   "metadata": {},
   "outputs": [
    {
     "name": "stdout",
     "output_type": "stream",
     "text": [
      "Total Words: 22997 , Distinct Words: 2218\n"
     ]
    }
   ],
   "source": [
    "print(f\"Total Words: {allWords} , Distinct Words: {distWords}\")"
   ]
  }
 ],
 "metadata": {
  "kernelspec": {
   "display_name": "Python 3",
   "language": "python",
   "name": "python3"
  },
  "language_info": {
   "codemirror_mode": {
    "name": "ipython",
    "version": 3
   },
   "file_extension": ".py",
   "mimetype": "text/x-python",
   "name": "python",
   "nbconvert_exporter": "python",
   "pygments_lexer": "ipython3",
   "version": "3.7.6"
  }
 },
 "nbformat": 4,
 "nbformat_minor": 4
}
